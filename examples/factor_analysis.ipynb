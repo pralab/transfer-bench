{
 "cells": [
  {
   "cell_type": "code",
   "execution_count": 130,
   "id": "79b45bcb",
   "metadata": {},
   "outputs": [
    {
     "name": "stdout",
     "output_type": "stream",
     "text": [
      "/Users/fabiobrau\n"
     ]
    },
    {
     "name": "stderr",
     "output_type": "stream",
     "text": [
      "7153.45s - pydevd: Sending message related to process being replaced timed-out after 5 seconds\n"
     ]
    },
    {
     "name": "stdout",
     "output_type": "stream",
     "text": [
      "Requirement already satisfied: factor_analyzer in /opt/anaconda3/envs/TransfBench/lib/python3.13/site-packages (0.5.1)\n",
      "Requirement already satisfied: pandas in /opt/anaconda3/envs/TransfBench/lib/python3.13/site-packages (from factor_analyzer) (2.2.3)\n",
      "Requirement already satisfied: scipy in /opt/anaconda3/envs/TransfBench/lib/python3.13/site-packages (from factor_analyzer) (1.15.2)\n",
      "Requirement already satisfied: numpy in /opt/anaconda3/envs/TransfBench/lib/python3.13/site-packages (from factor_analyzer) (2.2.5)\n",
      "Requirement already satisfied: scikit-learn in /opt/anaconda3/envs/TransfBench/lib/python3.13/site-packages (from factor_analyzer) (1.7.1)\n",
      "Requirement already satisfied: python-dateutil>=2.8.2 in /opt/anaconda3/envs/TransfBench/lib/python3.13/site-packages (from pandas->factor_analyzer) (2.9.0.post0)\n",
      "Requirement already satisfied: pytz>=2020.1 in /opt/anaconda3/envs/TransfBench/lib/python3.13/site-packages (from pandas->factor_analyzer) (2025.2)\n",
      "Requirement already satisfied: tzdata>=2022.7 in /opt/anaconda3/envs/TransfBench/lib/python3.13/site-packages (from pandas->factor_analyzer) (2025.2)\n",
      "Requirement already satisfied: joblib>=1.2.0 in /opt/anaconda3/envs/TransfBench/lib/python3.13/site-packages (from scikit-learn->factor_analyzer) (1.5.1)\n",
      "Requirement already satisfied: threadpoolctl>=3.1.0 in /opt/anaconda3/envs/TransfBench/lib/python3.13/site-packages (from scikit-learn->factor_analyzer) (3.6.0)\n",
      "Requirement already satisfied: six>=1.5 in /opt/anaconda3/envs/TransfBench/lib/python3.13/site-packages (from python-dateutil>=2.8.2->pandas->factor_analyzer) (1.17.0)\n",
      "Note: you may need to restart the kernel to use updated packages.\n"
     ]
    }
   ],
   "source": [
    "%cd ..\n",
    "%pip install factor_analyzer\n",
    "\n",
    "from transferbench.benchmark_tools.report_helpers import collect_results\n",
    "from transferbench.benchmark_tools.utils import get_run_list, get_config_from_run\n"
   ]
  },
  {
   "cell_type": "code",
   "execution_count": 131,
   "id": "c2ab8505",
   "metadata": {},
   "outputs": [],
   "source": [
    "run_list = get_run_list()\n",
    "df_results = collect_results(download=False)"
   ]
  },
  {
   "cell_type": "code",
   "execution_count": 132,
   "id": "2f464c31",
   "metadata": {},
   "outputs": [],
   "source": [
    "from pandas import DataFrame\n",
    "\n",
    "raw_run_df = DataFrame([get_config_from_run(run) for run in run_list])\n",
    "surr_cols = [col for col in raw_run_df.columns if \"surrogate_model\" in col]\n",
    "completed_results = df_results.merge(raw_run_df.loc[:,[\"id\",*surr_cols]], on=\"id\", how=\"left\")"
   ]
  },
  {
   "cell_type": "code",
   "execution_count": 133,
   "id": "b41aea42",
   "metadata": {},
   "outputs": [
    {
     "data": {
      "text/plain": [
       "Index(['predictions', 'labels', 'targets', 'success', 'queries', 'id',\n",
       "       'status', 'attack', 'victim_model', 'campaign', 'p', 'eps',\n",
       "       'maximum_queries', 'dataset', 'available', 'surrogate_model_0',\n",
       "       'surrogate_model_1', 'surrogate_model_2', 'surrogate_model_3',\n",
       "       'surrogate_model_4', 'surrogate_model_5'],\n",
       "      dtype='object')"
      ]
     },
     "execution_count": 133,
     "metadata": {},
     "output_type": "execute_result"
    }
   ],
   "source": [
    "completed_results.columns"
   ]
  },
  {
   "cell_type": "code",
   "execution_count": 158,
   "id": "9ff4d555",
   "metadata": {},
   "outputs": [
    {
     "name": "stdout",
     "output_type": "stream",
     "text": [
      "['surrogate_model_0', 'surrogate_model_1', 'surrogate_model_2', 'surrogate_model_3', 'surrogate_model_4', 'surrogate_model_5']\n",
      "['surrogate_model_0', 'surrogate_model_1', 'surrogate_model_2', 'surrogate_model_3', 'surrogate_model_4', 'surrogate_model_5']\n"
     ]
    }
   ],
   "source": [
    "import pandas as pd\n",
    "\n",
    "MODELS_CATEGORIES = {# To move into a config file\n",
    "    \"residuals\": [\n",
    "        'Amini2024MeanSparse_S-WRN-70-16',\n",
    "        'Bartoldson2024Adversarial_WRN-94-16',\n",
    "        'Wang2023Better_WRN-70-16',\n",
    "        'cifar100_resnet20', 'cifar100_resnet32', 'cifar100_resnet44', 'cifar100_resnet56',\n",
    "        'cifar10_resnet20', 'cifar10_resnet32', 'cifar10_resnet44', 'cifar10_resnet56',\n",
    "        'imagenet_resnet50_pubdef',\n",
    "        'resnet18', 'resnet34', 'resnet50', 'resnet101', 'resnet152',\n",
    "        'resnext50_32x4d', 'resnext101_32x8d', 'resnext101_64x4d',\n",
    "        'wide_resnet50_2', 'wide_resnet101_2',\n",
    "        'densenet121', 'densenet161', 'densenet169', 'densenet201',\n",
    "         'cifar10_shufflenetv2_x0_5', 'cifar10_shufflenetv2_x1_0',\n",
    "        'cifar10_shufflenetv2_x1_5', 'cifar10_shufflenetv2_x2_0',\n",
    "        'cifar100_shufflenetv2_x0_5', 'cifar100_shufflenetv2_x1_0',\n",
    "        'cifar100_shufflenetv2_x1_5', 'cifar100_shufflenetv2_x2_0',\n",
    "        'shufflenet_v2_x0_5', 'shufflenet_v2_x1_0', 'shufflenet_v2_x1_5', 'shufflenet_v2_x2_0',\n",
    "    ],\n",
    "    \"cnn\": [\n",
    "        'alexnet', 'cifar100_mobilenetv2_x0_5', 'cifar100_mobilenetv2_x0_75',\n",
    "        'cifar100_mobilenetv2_x1_0', 'cifar100_mobilenetv2_x1_4',\n",
    "        'cifar100_repvgg_a0', 'cifar100_repvgg_a1', 'cifar100_repvgg_a2',\n",
    "        'cifar100_vgg11_bn', 'cifar100_vgg13_bn', 'cifar100_vgg16_bn', 'cifar100_vgg19_bn',\n",
    "        'cifar10_mobilenetv2_x0_5', 'cifar10_mobilenetv2_x0_75',\n",
    "        'cifar10_mobilenetv2_x1_0', 'cifar10_mobilenetv2_x1_4',\n",
    "        'cifar10_repvgg_a0', 'cifar10_repvgg_a1', 'cifar10_repvgg_a2',\n",
    "        'cifar10_vgg11_bn', 'cifar10_vgg13_bn', 'cifar10_vgg16_bn', 'cifar10_vgg19_bn',\n",
    "        'convnext_tiny', 'convnext_small', 'convnext_base', 'convnext_large',\n",
    "        'efficientnet_b0', 'efficientnet_b1', 'efficientnet_b2', 'efficientnet_b3',\n",
    "        'efficientnet_b4', 'efficientnet_b5', 'efficientnet_b6', 'efficientnet_b7',\n",
    "        'efficientnet_v2_s', 'efficientnet_v2_m', 'efficientnet_v2_l',\n",
    "        'googlenet', 'inception_v3',\n",
    "        'mnasnet0_5', 'mnasnet0_75', 'mnasnet1_0', 'mnasnet1_3',\n",
    "        'mobilenet_v2', 'mobilenet_v3_small', 'mobilenet_v3_large',\n",
    "        'regnet_x_400mf', 'regnet_x_800mf', 'regnet_x_1_6gf', 'regnet_x_3_2gf',\n",
    "        'regnet_x_8gf', 'regnet_x_16gf', 'regnet_x_32gf',\n",
    "        'regnet_y_400mf', 'regnet_y_800mf', 'regnet_y_1_6gf', 'regnet_y_3_2gf',\n",
    "        'regnet_y_8gf', 'regnet_y_16gf', 'regnet_y_32gf', 'regnet_y_128gf',\n",
    "        'squeezenet1_0', 'squeezenet1_1',\n",
    "        'vgg11', 'vgg11_bn', 'vgg13', 'vgg13_bn', 'vgg16', 'vgg16_bn', 'vgg19', 'vgg19_bn'\n",
    "    ],\n",
    "    \"transformer\": [\n",
    "        'Amini2024MeanSparse_Swin-L', 'Xu2024MIMIR_Swin-L',\n",
    "        'cifar100_swin_b', 'cifar100_swin_t',\n",
    "        'cifar10_beit_b16', 'cifar10_swin_b', 'cifar10_swin_t', 'cifar10_vit_b16',\n",
    "        'maxvit_t',\n",
    "        'swin_b', 'swin_s', 'swin_t', 'swin_v2_b', 'swin_v2_s', 'swin_v2_t',\n",
    "        'vit_b_16', 'vit_b_32', 'vit_l_16', 'vit_l_32', 'vit_h_14'\n",
    "    ]\n",
    "}\n",
    "\n",
    "FEATURES = [\n",
    "    \"res_victim\", \"cnn_victim\", \"vt_victim\",\n",
    "    \"res_surr\", \"cnn_surr\", \"vt_surr\",\n",
    "    \"attack\", \"campaign\", \"eps\",\n",
    "    \"avg_success\"]\n",
    "def factor_analysis(df_results: pd.DataFrame) -> None:\n",
    "    r\"\"\"Perform factor analysis on the results.\"\"\"\n",
    "\n",
    "    datasets = df_results[\"dataset\"].unique()\n",
    "    df_features = []\n",
    "    # change null surrogate models to empty strings\n",
    "    for col in df_results.columns:\n",
    "        if \"surrogate_model\" in col:\n",
    "            df_results[col] = df_results[col].fillna(\"\")\n",
    "    for dataset in datasets:\n",
    "        df_loc = df_results[df_results[\"dataset\"] == dataset]\n",
    "        # Replace queries with nan when success is 0\n",
    "        #df_loc.loc[df_loc[\"success\"] == 0, \"queries\"] = float(\"nan\")\n",
    "        surr_cols = [col for col in df_loc.columns if \"surrogate_model\" in col]\n",
    "        print(surr_cols)\n",
    "        agg_df = df_loc.groupby([\"attack\", \"campaign\", \"victim_model\", *surr_cols, \"eps\"]).agg(\n",
    "            avg_success=(\"success\", \"mean\"),\n",
    "            #avg_queries=(\"queries\", \"mean\"),\n",
    "            count=(\"success\", \"count\"),\n",
    "        )\n",
    "        # Set queries to -1 when success is 0\n",
    "        #agg_df.loc[agg_df[\"avg_success\"] == 0, \"avg_queries\"] = -1\n",
    "        agg_df = agg_df.reset_index()\n",
    "        #agg_df.avg_success *= 100\n",
    "        # Extract Features\n",
    "        # Group victim models by categories\n",
    "        agg_df[\"res_victim\"] = agg_df[\"victim_model\"].apply(\n",
    "            lambda x: any(model in x for model in MODELS_CATEGORIES[\"residuals\"])\n",
    "        )\n",
    "        agg_df[\"cnn_victim\"] = agg_df[\"victim_model\"].apply(\n",
    "            lambda x: any(model in x for model in MODELS_CATEGORIES[\"cnn\"])\n",
    "        )\n",
    "        agg_df[\"vt_victim\"] = agg_df[\"victim_model\"].apply(\n",
    "            lambda x: any(model in x for model in MODELS_CATEGORIES[\"transformer\"])\n",
    "        )\n",
    "        # GRoup surrogate models by categories\n",
    "        agg_df[\"res_surr\"] = 0\n",
    "        agg_df[\"cnn_surr\"] = 0\n",
    "        agg_df[\"vt_surr\"] = 0\n",
    "        for i in range(6):\n",
    "            agg_df[\"res_surr\"] += agg_df[f\"surrogate_model_{i}\"].apply(\n",
    "            lambda x: any(model in x for model in MODELS_CATEGORIES[\"residuals\"])\n",
    "            ).astype(\"int\")\n",
    "            agg_df[\"cnn_surr\"] += agg_df[f\"surrogate_model_{i}\"].apply(\n",
    "                lambda x: any(model in x for model in MODELS_CATEGORIES[\"cnn\"])\n",
    "            ).astype(\"int\")\n",
    "            agg_df[\"vt_surr\"] += agg_df[f\"surrogate_model_{i}\"].apply(\n",
    "                lambda x: any(model in x for model in MODELS_CATEGORIES[\"transformer\"])\n",
    "            ).astype(\"int\")\n",
    "        # Convert to binary\n",
    "        agg_df[\"res_victim\"] = agg_df[\"res_victim\"].astype(\"int\")\n",
    "        agg_df[\"cnn_victim\"] = agg_df[\"cnn_victim\"].astype(\"int\")\n",
    "        agg_df[\"vt_victim\"] = agg_df[\"vt_victim\"].astype(\"int\")\n",
    "        \n",
    "        agg_df[\"res_surr\"] = agg_df[\"res_surr\"].apply(lambda x: 1 if x > 0 else 0)\n",
    "        agg_df[\"cnn_surr\"] = agg_df[\"cnn_surr\"].apply(lambda x: 1 if x > 0 else 0)\n",
    "        agg_df[\"vt_surr\"] = agg_df[\"vt_surr\"].apply(lambda x: 1 if x > 0 else 0)\n",
    "\n",
    "        agg_df = agg_df[FEATURES]\n",
    "        agg_df = agg_df.rename(\n",
    "            columns={\"campaign\": \"scenario\", \"victim_model\": \"victim\"})\n",
    "        df_features.append(agg_df)\n",
    "    return df_features\n",
    "\n",
    "\n",
    "df_imagenet, df_cifar = factor_analysis(completed_results)"
   ]
  },
  {
   "cell_type": "code",
   "execution_count": 159,
   "id": "c335de90",
   "metadata": {},
   "outputs": [
    {
     "data": {
      "text/plain": [
       "(array(['omeo', 'etero', 'robust'], dtype=object),\n",
       " array(['etero', 'omeo', 'robust'], dtype=object),\n",
       " array(['etero', 'omeo', 'robust'], dtype=object))"
      ]
     },
     "execution_count": 159,
     "metadata": {},
     "output_type": "execute_result"
    }
   ],
   "source": [
    "completed_results.campaign.unique(), df_imagenet.scenario.unique(), df_cifar.scenario.unique()\n"
   ]
  },
  {
   "cell_type": "code",
   "execution_count": 168,
   "id": "d9aa1b59",
   "metadata": {},
   "outputs": [
    {
     "name": "stdout",
     "output_type": "stream",
     "text": [
      "Scenario columns: ['etero', 'omeo', 'robust']\n"
     ]
    }
   ],
   "source": [
    "\n",
    "df = pd.concat([df_imagenet, df_cifar], ignore_index=True)\n",
    "binary_vars = [\n",
    "    \"res_victim\", \"cnn_victim\", \"vt_victim\",\n",
    "    \"res_surr\", \"cnn_surr\", \"vt_surr\"]\n",
    "cat_vars = [\"attack\", \"scenario\"]\n",
    "numeric_vars = [\"avg_success\", \"eps\"]\n",
    "\n",
    "\n",
    "# Encode categorical variables\n",
    "df_enc_attack = pd.get_dummies(df[\"attack\"].copy()).astype(\"int\")\n",
    "df_enc_scenario = pd.get_dummies(df[\"scenario\"].copy()).astype(\"int\")\n",
    "print(f\"Scenario columns: {df_enc_scenario.columns.tolist()}\")\n",
    "# Combine all variables for analysis\n",
    "df_X = pd.concat([\n",
    "    df[binary_vars],\n",
    "    #df_enc_attack,\n",
    "    df_enc_scenario,\n",
    "    df[numeric_vars]\n",
    "], axis=1)"
   ]
  },
  {
   "cell_type": "code",
   "execution_count": 169,
   "id": "2e45eaa8",
   "metadata": {},
   "outputs": [
    {
     "name": "stdout",
     "output_type": "stream",
     "text": [
      "Coefficients of the linear regression model:\n",
      "res_victim: 0.1767\n",
      "cnn_victim: 0.1302\n",
      "vt_victim: -0.0789\n",
      "res_surr: 0.0154\n",
      "cnn_surr: 0.0088\n",
      "vt_surr: 0.0146\n",
      "etero: 0.0388\n",
      "omeo: 0.2403\n",
      "robust: -0.2791\n",
      "eps: 0.0000\n"
     ]
    },
    {
     "data": {
      "image/png": "[encoded data removed]",
      "text/plain": [
       "<Figure size 500x400 with 1 Axes>"
      ]
     },
     "metadata": {},
     "output_type": "display_data"
    }
   ],
   "source": [
    "from sklearn.linear_model import LinearRegression, Lasso, Ridge\n",
    "# Fit a linear regression model to check for multicollinearity\n",
    "\n",
    "model = Ridge()\n",
    "X = df_X.drop(columns=[\"avg_success\"])  # Remove target variable for fitting\n",
    "Y = df_X[\"avg_success\"]\n",
    "# Fit the model\n",
    "model.fit(X, Y)\n",
    "# Check the coefficients\n",
    "coefficients = model.coef_\n",
    "print(\"Coefficients of the linear regression model:\")\n",
    "for feature, coef in zip(X.columns, coefficients):\n",
    "    print(f\"{feature}: {coef:.4f}\")\n",
    "\n",
    "# Barplot of coefficients\n",
    "import matplotlib.pyplot as plt\n",
    "import seaborn as sns\n",
    "plt.figure(figsize=(5, 4))\n",
    "sns.barplot(y=X.columns, x=coefficients, orient=\"h\")\n",
    "plt.title(\"Coefficients of the Ridge Regression\")\n",
    "plt.ylabel(\"Features\")\n",
    "plt.xlabel(\"Correlation with Avg Success\")\n",
    "plt.tight_layout()\n",
    "plt.show()"
   ]
  },
  {
   "cell_type": "code",
   "execution_count": 170,
   "id": "db55c10b",
   "metadata": {},
   "outputs": [
    {
     "name": "stdout",
     "output_type": "stream",
     "text": [
      "KMO Test Score: nan\n",
      "Bartlett's test p-value: nan\n"
     ]
    },
    {
     "name": "stderr",
     "output_type": "stream",
     "text": [
      "/opt/anaconda3/envs/TransfBench/lib/python3.13/site-packages/factor_analyzer/utils.py:244: UserWarning: The inverse of the variance-covariance matrix was calculated using the Moore-Penrose generalized matrix inversion, due to its determinant being at or very close to zero.\n",
      "  warnings.warn(\n",
      "/opt/anaconda3/envs/TransfBench/lib/python3.13/site-packages/factor_analyzer/utils.py:199: RuntimeWarning: divide by zero encountered in divide\n",
      "  Is = np.sqrt(1 / np.diag(m))\n",
      "/opt/anaconda3/envs/TransfBench/lib/python3.13/site-packages/factor_analyzer/utils.py:200: RuntimeWarning: invalid value encountered in multiply\n",
      "  retval = Is * m * np.repeat(Is, numrows).reshape(numrows, numrows)\n",
      "/opt/anaconda3/envs/TransfBench/lib/python3.13/site-packages/numpy/linalg/_linalg.py:2383: RuntimeWarning: invalid value encountered in det\n",
      "  r = _umath_linalg.det(a, signature=signature)\n"
     ]
    }
   ],
   "source": [
    "from factor_analyzer.factor_analyzer import calculate_kmo, calculate_bartlett_sphericity\n",
    "\n",
    "kmo_all, kmo_model = calculate_kmo(df_X)\n",
    "print(f\"KMO Test Score: {kmo_model:.2f}\")\n",
    "\n",
    "chi_square_value, p_value = calculate_bartlett_sphericity(df_X)\n",
    "print(f\"Bartlett's test p-value: {p_value:.4f}\")\n"
   ]
  },
  {
   "cell_type": "code",
   "execution_count": null,
   "id": "b1d7f7b3",
   "metadata": {},
   "outputs": [],
   "source": []
  }
 ],
 "metadata": {
  "kernelspec": {
   "display_name": "TransfBench",
   "language": "python",
   "name": "python3"
  },
  "language_info": {
   "codemirror_mode": {
    "name": "ipython",
    "version": 3
   },
   "file_extension": ".py",
   "mimetype": "text/x-python",
   "name": "python",
   "nbconvert_exporter": "python",
   "pygments_lexer": "ipython3",
   "version": "3.13.2"
  }
 },
 "nbformat": 4,
 "nbformat_minor": 5
}
