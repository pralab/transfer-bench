{
 "cells": [
  {
   "cell_type": "markdown",
   "metadata": {},
   "source": [
    "# TranferEval class for evaluating transferability between models\n",
    "\n",
    "Example of usage of the TransferBench library to evaluate the transferability of adversarial attacks on different models and datasets."
   ]
  },
  {
   "cell_type": "code",
   "execution_count": null,
   "metadata": {},
   "outputs": [],
   "source": [
    "%cd .."
   ]
  },
  {
   "cell_type": "code",
   "execution_count": null,
   "metadata": {},
   "outputs": [],
   "source": [
    "# case 1: Evaluate transferability using default scenarios, on torchvision models\n",
    "\n",
    "from transferbench.evaluate_transferability import TransferEval\n",
    "\n",
    "evaluator = TransferEval(\"resnet50\",\n",
    "[\n",
    "    \"resnet18\",\n",
    "    \"resnet101\",\n",
    "    \"resnet152\"\n",
    "])\n",
    "result = evaluator.run(batch_size=4, device=\"cuda:1\")\n",
    "print(result)"
   ]
  },
  {
   "cell_type": "code",
   "execution_count": null,
   "metadata": {},
   "outputs": [],
   "source": [
    "# case 2: Evaluate transferability using custom scenarios, on torchvision models\n",
    "\n",
    "from transferbench.attacks import BaseHyperParameters\n",
    "from transferbench.evaluate_transferability import TransferEval\n",
    "from transferbench.utils.scenarios import TransferScenario\n",
    "\n",
    "myscenario = TransferScenario(\n",
    "    hp=BaseHyperParameters(eps=0.3, p=2, maximum_queries=10),\n",
    "    attack_step=\"NaiveAvg\",\n",
    "    dataset=\"ImageNetT\",\n",
    ")\n",
    "\n",
    "evaluator = TransferEval(\n",
    "    \"resnet50\",\n",
    "[\n",
    "    \"resnet18\",\n",
    "    \"resnet101\",\n",
    "    \"resnet152\"\n",
    "],\n",
    ")\n",
    "evaluator.set_scenarios(myscenario, \"oneshot\")\n",
    "result = evaluator.run(batch_size=4, device=\"cuda:1\")\n"
   ]
  },
  {
   "cell_type": "code",
   "execution_count": null,
   "metadata": {},
   "outputs": [],
   "source": [
    "import torch\n",
    "from torchvision import datasets, transforms\n",
    "from transferbench.attacks import BaseHyperParameters\n",
    "from transferbench.evaluate_transferability import TransferEval\n",
    "from transferbench.models.utils import add_normalization\n",
    "from transferbench.utils.scenarios import TransferScenario\n",
    "\n",
    "# Load a dataset\n",
    "transform = transforms.Compose([transforms.ToTensor()])\n",
    "cifar100 = datasets.CIFAR100(\n",
    "    root=\"./data/datasets\",\n",
    "    train=False,\n",
    "    download=True,\n",
    "    transform=transform,\n",
    ")\n",
    "cifar100_mean = [0.5, 0.5, 0.5]\n",
    "cifar100_std = [1.0, 1.0, 1.0]\n",
    "\n",
    "REPO_LINK = \"chenyaofo/pytorch-cifar-models\"\n",
    "# Load models and normalize them\n",
    "get_model = lambda model: torch.hub.load(\n",
    "    REPO_LINK, \"cifar100_\" + model, pretrained=True\n",
    ")\n",
    "\n",
    "# Use the dataset in the TransferEval\n",
    "victim_model = add_normalization(get_model(\"resnet56\"), cifar100_mean, cifar100_std)\n",
    "surrgoate_models = [\n",
    "    add_normalization(get_model(\"vgg11_bn\"), cifar100_mean, cifar100_std),\n",
    "    add_normalization(get_model(\"vgg13_bn\"), cifar100_mean, cifar100_std),\n",
    "    add_normalization(get_model(\"vgg16_bn\"), cifar100_mean, cifar100_std),\n",
    "    add_normalization(get_model(\"vgg19_bn\"), cifar100_mean, cifar100_std),\n",
    "]\n",
    "\n",
    "evaluator = TransferEval(\n",
    "    victim_model,\n",
    "    surrgoate_models,\n",
    ")\n",
    "myscenario = TransferScenario(\n",
    "    hp=BaseHyperParameters(eps=0.3, p=2, maximum_queries=10),\n",
    "    attack_step=\"NaiveAvg\",\n",
    "    dataset=cifar100,\n",
    ")\n",
    "evaluator.set_scenarios(myscenario)\n",
    "result = evaluator.run(batch_size=4, device=\"cuda:1\")\n",
    "print(result)\n"
   ]
  },
  {
   "cell_type": "code",
   "execution_count": null,
   "metadata": {},
   "outputs": [],
   "source": []
  },
  {
   "cell_type": "code",
   "execution_count": null,
   "metadata": {},
   "outputs": [],
   "source": []
  }
 ],
 "metadata": {
  "kernelspec": {
   "display_name": "TransfBench",
   "language": "python",
   "name": "python3"
  },
  "language_info": {
   "codemirror_mode": {
    "name": "ipython",
    "version": 3
   },
   "file_extension": ".py",
   "mimetype": "text/x-python",
   "name": "python",
   "nbconvert_exporter": "python",
   "pygments_lexer": "ipython3",
   "version": "3.9.21"
  }
 },
 "nbformat": 4,
 "nbformat_minor": 2
}
